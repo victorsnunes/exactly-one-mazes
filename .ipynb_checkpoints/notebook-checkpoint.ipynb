{
 "cells": [
  {
   "attachments": {
    "image.png": {
     "image/png": "[encoded data removed]"
    }
   },
   "cell_type": "markdown",
   "id": "3ce6fc29",
   "metadata": {},
   "source": [
    "# Excatly 1 Maze\n",
    " based on the problem: https://erich-friedman.github.io/puzzle/exactly1/\n",
    " \n",
    " ![image.png](attachment:image.png)\n",
    " \n",
    " \n",
    " importing libraries:"
   ]
  },
  {
   "cell_type": "code",
   "execution_count": 1,
   "id": "fc6162aa",
   "metadata": {},
   "outputs": [],
   "source": [
    "from gym import Env\n",
    "from gym.spaces import Discrete\n",
    "from structures import Board\n",
    "from utils import makeMove, operationConverter, possibleOperations\n",
    "from screen import Screen"
   ]
  },
  {
   "cell_type": "markdown",
   "id": "59b945ef",
   "metadata": {},
   "source": [
    "## Imporitng our custom gym enviroment"
   ]
  },
  {
   "cell_type": "code",
   "execution_count": 2,
   "id": "0c86d44c",
   "metadata": {},
   "outputs": [],
   "source": [
    "from ExactlyOneMazesEnv import ExactlyOneMazesEnv\n",
    "import numpy as np\n",
    "import random"
   ]
  },
  {
   "cell_type": "markdown",
   "id": "0598bf52",
   "metadata": {},
   "source": [
    "## Setting up\n",
    "We set up the env with the custom class\n"
   ]
  },
  {
   "cell_type": "code",
   "execution_count": 3,
   "id": "03d486fe",
   "metadata": {},
   "outputs": [
    {
     "name": "stdout",
     "output_type": "stream",
     "text": [
      "Restarting...\n"
     ]
    }
   ],
   "source": [
    "env = ExactlyOneMazesEnv()\n",
    "state = env.reset()\n",
    "env.render()"
   ]
  },
  {
   "cell_type": "markdown",
   "id": "93ea7906",
   "metadata": {},
   "source": [
    "We startup the Q table and the learning parameters"
   ]
  },
  {
   "cell_type": "code",
   "execution_count": 4,
   "id": "01e3e611",
   "metadata": {},
   "outputs": [],
   "source": [
    "alpha = 0.7         #Learning rate\n",
    "gamma = 0.618       #Discount rate\n",
    "epsilon = 1         #Exploration rate\n",
    "max_epsilon = 1     #Exploration probability at start\n",
    "min_epsilon = 0.01  #Minimum exploration probability\n",
    "decay = 0.01        #Exponential decay rate for exploration prob\n",
    "\n",
    "train_episodes = 2000\n",
    "test_episodes = 100\n",
    "max_steps = 100"
   ]
  },
  {
   "cell_type": "markdown",
   "id": "7c6c51e8",
   "metadata": {},
   "source": [
    "## Q learning training algorithm:"
   ]
  },
  {
   "cell_type": "code",
   "execution_count": 5,
   "id": "d9b271a1",
   "metadata": {},
   "outputs": [
    {
     "name": "stdout",
     "output_type": "stream",
     "text": [
      "Restarting...\n"
     ]
    },
    {
     "ename": "NameError",
     "evalue": "name 'Q' is not defined",
     "output_type": "error",
     "traceback": [
      "\u001b[0;31m---------------------------------------------------------------------------\u001b[0m",
      "\u001b[0;31mNameError\u001b[0m                                 Traceback (most recent call last)",
      "Input \u001b[0;32mIn [5]\u001b[0m, in \u001b[0;36m<cell line: 7>\u001b[0;34m()\u001b[0m\n\u001b[1;32m     30\u001b[0m new_state, reward, done, info \u001b[38;5;241m=\u001b[39m env\u001b[38;5;241m.\u001b[39mstep(action)\n\u001b[1;32m     32\u001b[0m \u001b[38;5;66;03m### STEP 5: update the Q-table\u001b[39;00m\n\u001b[1;32m     33\u001b[0m \u001b[38;5;66;03m# Updating the Q-table using the Bellman equation\u001b[39;00m\n\u001b[0;32m---> 34\u001b[0m Q[state, action] \u001b[38;5;241m=\u001b[39m \u001b[43mQ\u001b[49m[state, action] \u001b[38;5;241m+\u001b[39m alpha \u001b[38;5;241m*\u001b[39m (\n\u001b[1;32m     35\u001b[0m             reward \u001b[38;5;241m+\u001b[39m gamma \u001b[38;5;241m*\u001b[39m np\u001b[38;5;241m.\u001b[39mmax(Q[new_state, :]) \u001b[38;5;241m-\u001b[39m Q[state, action])\n\u001b[1;32m     36\u001b[0m \u001b[38;5;66;03m# Increasing our total reward and updating the state\u001b[39;00m\n\u001b[1;32m     37\u001b[0m total_training_rewards \u001b[38;5;241m+\u001b[39m\u001b[38;5;241m=\u001b[39m reward\n",
      "\u001b[0;31mNameError\u001b[0m: name 'Q' is not defined"
     ]
    }
   ],
   "source": [
    "#Training the agent\n",
    "\n",
    "training_rewards = []\n",
    "epsilons = []\n",
    "\n",
    "for episode in range(train_episodes):\n",
    "    # Reseting the environment each time as per requirement\n",
    "    state = env.reset()\n",
    "    # Starting the tracker for the rewards\n",
    "    total_training_rewards = 0\n",
    "\n",
    "    for step in range(100):\n",
    "        # Choosing an action given the states based on a random number\n",
    "        exp_exp_tradeoff = random.uniform(0, 1)\n",
    "\n",
    "        if exp_exp_tradeoff > epsilon:\n",
    "            action = np.argmax(Q[state.get_obs(), :])\n",
    "        else:\n",
    "            action = env.action_space.sample()\n",
    "\n",
    "        new_state, reward, done, info = env.step(action)\n",
    "\n",
    "        Q[state.get_obs(), action] = Q[state.get_obs(), action] + alpha * (\n",
    "                    reward + gamma * np.max(Q[new_state.get_obs(), :]) - Q[state.get_obs(), action])\n",
    "\n",
    "        total_training_rewards += reward\n",
    "        state = new_state\n",
    "\n",
    "        env.render()\n",
    "        state.print()\n",
    "        print(\"Reward: \", reward, \"\\n\")\n",
    "\n",
    "        if done == True:\n",
    "            # print (\"Total reward for episode {}: {}\".format(episode, total_training_rewards))\n",
    "            break\n",
    "\n",
    "    # Cutting down on exploration by reducing the epsilon\n",
    "    epsilon = min_epsilon + (max_epsilon - min_epsilon) * np.exp(-decay * episode)\n",
    "\n",
    "    # Adding the total reward and reduced epsilon values\n",
    "    training_rewards.append(total_training_rewards)\n",
    "    epsilons.append(epsilon)\n",
    "\n",
    "print(\"Training score over time: \" + str(sum(training_rewards) / train_episodes))"
   ]
  },
  {
   "cell_type": "markdown",
   "id": "62e445d2",
   "metadata": {},
   "source": [
    "## SARSA\n",
    "Useful functions"
   ]
  },
  {
   "cell_type": "code",
   "execution_count": 6,
   "id": "a25602ff",
   "metadata": {},
   "outputs": [],
   "source": [
    "def chose_action(state):\n",
    "    action=0\n",
    "    if np.random.uniform(0, 1) < epsilon:\n",
    "        action = env.action_space.sample()\n",
    "    else:\n",
    "        action = np.argmax(Q[state.get_obs(), :])\n",
    "    return action\n",
    "\n",
    "#Function to learn the Q-value\n",
    "def update(state, state2, reward, action, action2):\n",
    "    predict = Q[state.get_obs(), action]\n",
    "    target = reward + gamma * Q[state2.get_obs(), action2]\n",
    "    Q[state.get_obs(), action] = Q[state.get_obs(), action] + alpha * (target - predict)"
   ]
  },
  {
   "cell_type": "markdown",
   "id": "011f6a74",
   "metadata": {},
   "source": [
    "### SARSA training algorithm:"
   ]
  },
  {
   "cell_type": "code",
   "execution_count": 7,
   "id": "ba399295",
   "metadata": {},
   "outputs": [
    {
     "name": "stdout",
     "output_type": "stream",
     "text": [
      "Restarting...\n"
     ]
    },
    {
     "ename": "NameError",
     "evalue": "name 'Q' is not defined",
     "output_type": "error",
     "traceback": [
      "\u001b[0;31m---------------------------------------------------------------------------\u001b[0m",
      "\u001b[0;31mNameError\u001b[0m                                 Traceback (most recent call last)",
      "Input \u001b[0;32mIn [7]\u001b[0m, in \u001b[0;36m<cell line: 8>\u001b[0;34m()\u001b[0m\n\u001b[1;32m     16\u001b[0m state2, reward, done, info \u001b[38;5;241m=\u001b[39m env\u001b[38;5;241m.\u001b[39mstep(action1)\n\u001b[1;32m     18\u001b[0m action2 \u001b[38;5;241m=\u001b[39m chose_action(state2)\n\u001b[0;32m---> 20\u001b[0m \u001b[43mupdate\u001b[49m\u001b[43m(\u001b[49m\u001b[43mstate1\u001b[49m\u001b[43m,\u001b[49m\u001b[43m \u001b[49m\u001b[43mstate2\u001b[49m\u001b[43m,\u001b[49m\u001b[43m \u001b[49m\u001b[43mreward\u001b[49m\u001b[43m,\u001b[49m\u001b[43m \u001b[49m\u001b[43maction1\u001b[49m\u001b[43m,\u001b[49m\u001b[43m \u001b[49m\u001b[43maction2\u001b[49m\u001b[43m)\u001b[49m\n\u001b[1;32m     22\u001b[0m state1 \u001b[38;5;241m=\u001b[39m state2\n\u001b[1;32m     23\u001b[0m action1 \u001b[38;5;241m=\u001b[39m action2\n",
      "Input \u001b[0;32mIn [6]\u001b[0m, in \u001b[0;36mupdate\u001b[0;34m(state, state2, reward, action, action2)\u001b[0m\n\u001b[1;32m     10\u001b[0m \u001b[38;5;28;01mdef\u001b[39;00m \u001b[38;5;21mupdate\u001b[39m(state, state2, reward, action, action2):\n\u001b[0;32m---> 11\u001b[0m     predict \u001b[38;5;241m=\u001b[39m \u001b[43mQ\u001b[49m[state, action]\n\u001b[1;32m     12\u001b[0m     target \u001b[38;5;241m=\u001b[39m reward \u001b[38;5;241m+\u001b[39m gamma \u001b[38;5;241m*\u001b[39m Q[state2, action2]\n\u001b[1;32m     13\u001b[0m     Q[state, action] \u001b[38;5;241m=\u001b[39m Q[state, action] \u001b[38;5;241m+\u001b[39m alpha \u001b[38;5;241m*\u001b[39m (target \u001b[38;5;241m-\u001b[39m predict)\n",
      "\u001b[0;31mNameError\u001b[0m: name 'Q' is not defined"
     ]
    }
   ],
   "source": [
    "#Training the agent\n",
    "\n",
    "#Creating lists to keep track of reward and epsilon values\n",
    "training_rewards = []\n",
    "epsilons = []\n",
    "\n",
    "reward = 0\n",
    "for episode in range(train_episodes):\n",
    "    t = 0\n",
    "    state1 = env.reset()\n",
    "    action1 = chose_action(state1)\n",
    "\n",
    "    for step in range(max_steps):\n",
    "        env.render()\n",
    "\n",
    "        state2, reward, done, info = env.step(action1)\n",
    "\n",
    "        action2 = chose_action(state2)\n",
    "\n",
    "        update(state1, state2, reward, action1, action2)\n",
    "\n",
    "        state1 = state2\n",
    "        action1 = action2\n",
    "\n",
    "        state1.print()\n",
    "        print(\"Reward: \", reward, \"\\n\")\n",
    "\n",
    "        reward += 1\n",
    "\n",
    "        # Ending the episode\n",
    "        if done == True:\n",
    "            # print (\"Total reward for episode {}: {}\".format(episode, total_training_rewards))\n",
    "            break\n",
    "\n",
    "rewardEpisodes = \"{:.3f}\".format(reward/train_episodes)\n",
    "print(\"reward/episodes = \", reward, \"/\", train_episodes, \" = \", rewardEpisodes)\n",
    "\n",
    "print(Q)"
   ]
  },
  {
   "cell_type": "code",
   "execution_count": null,
   "id": "96677db1",
   "metadata": {},
   "outputs": [],
   "source": []
  }
 ],
 "metadata": {
  "kernelspec": {
   "display_name": "Python 3 (ipykernel)",
   "language": "python",
   "name": "python3"
  },
  "language_info": {
   "codemirror_mode": {
    "name": "ipython",
    "version": 3
   },
   "file_extension": ".py",
   "mimetype": "text/x-python",
   "name": "python",
   "nbconvert_exporter": "python",
   "pygments_lexer": "ipython3",
   "version": "3.9.7"
  }
 },
 "nbformat": 4,
 "nbformat_minor": 5
}
